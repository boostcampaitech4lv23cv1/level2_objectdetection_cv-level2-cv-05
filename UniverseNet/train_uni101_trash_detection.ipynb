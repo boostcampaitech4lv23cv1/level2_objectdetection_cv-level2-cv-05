{
 "cells": [
  {
   "cell_type": "code",
   "execution_count": null,
   "id": "817c1591-a3f7-45b7-b80b-bb57c1f45ff0",
   "metadata": {},
   "outputs": [],
   "source": [
    "# 모듈 import\n",
    "import multiprocessing\n",
    "from mmcv import Config\n",
    "from mmdet.datasets import build_dataset\n",
    "from mmdet.models import build_detector\n",
    "from mmdet.apis import train_detector\n",
    "from mmdet.datasets import (build_dataloader, build_dataset,\n",
    "                            replace_ImageToTensor)\n",
    "from mmdet.utils import get_device\n",
    "from mmdet.apis import set_random_seed"
   ]
  },
  {
   "cell_type": "code",
   "execution_count": null,
   "id": "ee093fce-1754-4e52-9d7f-723863b33e4e",
   "metadata": {},
   "outputs": [],
   "source": [
    "# config file 들고오기\n",
    "config = './configs/_trash_/universenet101_trash_detection.py'\n",
    "cfg = Config.fromfile(config)"
   ]
  },
  {
   "cell_type": "code",
   "execution_count": null,
   "id": "78ebf104-5375-4f06-b6e9-19a330af9b81",
   "metadata": {},
   "outputs": [],
   "source": [
    "cfg.seed = 2022\n",
    "cfg.deterministic = True\n",
    "set_random_seed(2022, True)\n",
    "\n",
    "cfg.data.samples_per_gpu = 8\n",
    "cfg.data.workers_per_gpu = multiprocessing.cpu_count() // 2 # num_workers\n",
    "\n",
    "cfg.gpu_ids = [0]\n",
    "cfg.work_dir = './work_dir/universenet101_trash_detection.py'\n",
    "cfg.device = get_device()"
   ]
  },
  {
   "cell_type": "code",
   "execution_count": null,
   "id": "a7e2904a-8531-46cc-9c24-4d524c094928",
   "metadata": {},
   "outputs": [],
   "source": [
    "#wandb\n",
    "import datetime\n",
    "\n",
    "now = (datetime.datetime.now().replace(microsecond=0) + datetime.timedelta(hours=9)).strftime(\"%m-%d %H:%M\")\n",
    "cfg.log_config.hooks = [\n",
    "    dict(type='TextLoggerHook'),\n",
    "    dict(type='WandbLoggerHook',\n",
    "         init_kwargs={\n",
    "            'project': 'trash_detection',\n",
    "            'entity': 'kimhs21474',\n",
    "            'name' : f'{cfg.model.type}_{now}_pkt',\n",
    "            'tags': [cfg.model.backbone.type, cfg.model.neck[0].type, 'multiscale']\n",
    "            },\n",
    "         interval=10,\n",
    "        )]"
   ]
  },
  {
   "cell_type": "code",
   "execution_count": null,
   "id": "947bd7d4-7e06-465a-ba77-ed7b48868bca",
   "metadata": {},
   "outputs": [],
   "source": [
    "# build_dataset\n",
    "datasets = [build_dataset(cfg.data.train)]\n",
    "datasets[0]"
   ]
  },
  {
   "cell_type": "code",
   "execution_count": null,
   "id": "9fbdbeaf-9d86-4329-b08e-564a2e14c908",
   "metadata": {},
   "outputs": [],
   "source": [
    "# 모델 build 및 pretrained network 불러오기\n",
    "model = build_detector(cfg.model)\n",
    "model.init_weights()"
   ]
  },
  {
   "cell_type": "code",
   "execution_count": null,
   "id": "a63fd9b3-a448-486b-b904-450ad18dad3b",
   "metadata": {},
   "outputs": [],
   "source": [
    "meta = dict()\n",
    "meta['seed'] = cfg.seed"
   ]
  },
  {
   "cell_type": "code",
   "execution_count": null,
   "id": "fcc16459-ce8d-4ac4-a4fb-ddaf59ab0212",
   "metadata": {},
   "outputs": [],
   "source": [
    "# 모델 학습\n",
    "train_detector(model, datasets[0], cfg, distributed=False, validate=True, meta=meta)"
   ]
  },
  {
   "cell_type": "code",
   "execution_count": null,
   "id": "6269e119-2e6b-498b-93f8-2820208dedce",
   "metadata": {},
   "outputs": [],
   "source": []
  }
 ],
 "metadata": {
  "kernelspec": {
   "display_name": "Python 3 (ipykernel)",
   "language": "python",
   "name": "python3"
  },
  "language_info": {
   "codemirror_mode": {
    "name": "ipython",
    "version": 3
   },
   "file_extension": ".py",
   "mimetype": "text/x-python",
   "name": "python",
   "nbconvert_exporter": "python",
   "pygments_lexer": "ipython3",
   "version": "3.8.5"
  }
 },
 "nbformat": 4,
 "nbformat_minor": 5
}
