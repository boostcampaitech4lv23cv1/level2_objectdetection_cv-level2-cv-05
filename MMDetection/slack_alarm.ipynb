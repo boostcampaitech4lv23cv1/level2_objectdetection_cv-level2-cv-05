{
 "cells": [
  {
   "cell_type": "code",
   "execution_count": 11,
   "id": "f8b8d9aa-18d6-4225-a020-86425f08a0a7",
   "metadata": {},
   "outputs": [
    {
     "data": {
      "text/plain": [
       "<Response [200]>"
      ]
     },
     "execution_count": 11,
     "metadata": {},
     "output_type": "execute_result"
    }
   ],
   "source": [
    "import json\n",
    "import requests\n",
    "# 필요한 패키지를 import 해줍니다.\n",
    "url = \"\"\n",
    "# 발급받은 웹후크 url을 입력해줍니다.\n",
    "def bot(url, text, channel=\"알림\", username=\"incoming-webhook\"):\n",
    "    payload = {\n",
    "        \"channel\": channel,\n",
    "        \"username\": username,\n",
    "        \"text\": text,\n",
    "    }\n",
    "\n",
    "# 채널명과 앱의 이름을 올바르게 입력해줍니다.\n",
    "    response = requests.post(url, json.dumps(payload))\n",
    "    return response\n",
    "# requests로 response 해줍니다.\n",
    "bot(url, \"끝\")\n",
    "\n",
    "# 선언된 함수를 이용해 원하는 메세지를 발신합니다."
   ]
  },
  {
   "cell_type": "code",
   "execution_count": null,
   "id": "92b3dd0f-e55e-49e6-9cdf-0e5a76e5c92a",
   "metadata": {},
   "outputs": [],
   "source": []
  }
 ],
 "metadata": {
  "kernelspec": {
   "display_name": "detection",
   "language": "python",
   "name": "detection"
  },
  "language_info": {
   "codemirror_mode": {
    "name": "ipython",
    "version": 3
   },
   "file_extension": ".py",
   "mimetype": "text/x-python",
   "name": "python",
   "nbconvert_exporter": "python",
   "pygments_lexer": "ipython3",
   "version": "3.7.15"
  }
 },
 "nbformat": 4,
 "nbformat_minor": 5
}
